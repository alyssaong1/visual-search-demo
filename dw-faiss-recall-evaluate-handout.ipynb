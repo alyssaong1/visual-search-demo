{
 "cells": [
  {
   "cell_type": "code",
   "execution_count": 1,
   "metadata": {},
   "outputs": [],
   "source": [
    "# P&G faiss index recall evaluation code"
   ]
  },
  {
   "cell_type": "code",
   "execution_count": 1,
   "metadata": {},
   "outputs": [],
   "source": [
    "import numpy as np\n",
    "from PIL import Image\n",
    "import csv\n",
    "import os\n",
    "from os import listdir\n",
    "from os.path import isfile, join, splitext\n",
    "import shutil\n",
    "import random\n",
    "import matplotlib.pyplot as plt\n",
    "from matplotlib.pyplot import imshow\n",
    "\n",
    "import faiss\n",
    "\n",
    "%matplotlib inline\n"
   ]
  },
  {
   "cell_type": "code",
   "execution_count": 2,
   "metadata": {},
   "outputs": [],
   "source": [
    "arr = np.load('pg_np_512d_vector_data.npy').astype('float32')"
   ]
  },
  {
   "cell_type": "code",
   "execution_count": 3,
   "metadata": {},
   "outputs": [
    {
     "data": {
      "text/plain": [
       "(32217, 512)"
      ]
     },
     "execution_count": 3,
     "metadata": {},
     "output_type": "execute_result"
    }
   ],
   "source": [
    "arr.shape"
   ]
  },
  {
   "cell_type": "code",
   "execution_count": 4,
   "metadata": {},
   "outputs": [],
   "source": [
    "# seperate index and test query\n",
    "xb = arr[0:30000]\n",
    "xq = arr[30000:32000]"
   ]
  },
  {
   "cell_type": "code",
   "execution_count": 5,
   "metadata": {},
   "outputs": [
    {
     "name": "stdout",
     "output_type": "stream",
     "text": [
      "xb.shape :  (30000, 512)\n",
      "xq.shape (2000, 512)\n"
     ]
    }
   ],
   "source": [
    "print('xb.shape : ',xb.shape)\n",
    "print('xq.shape', xq.shape)"
   ]
  },
  {
   "cell_type": "code",
   "execution_count": 6,
   "metadata": {},
   "outputs": [],
   "source": [
    "# set L2 index\n",
    "d = 512\n",
    "indexL2 = faiss.IndexFlatL2(d)\n",
    "indexL2.add(xb)"
   ]
  },
  {
   "cell_type": "code",
   "execution_count": 7,
   "metadata": {},
   "outputs": [],
   "source": [
    "# set IVFFlat index\n",
    "nlist = 100\n",
    "quantizer = faiss.IndexFlatL2(d)  # the other index\n",
    "indexIVFFlat = faiss.IndexIVFFlat(quantizer, d, nlist, faiss.METRIC_L2)\n",
    "indexIVFFlat.train(xb)\n",
    "indexIVFFlat.add(xb)"
   ]
  },
  {
   "cell_type": "code",
   "execution_count": 25,
   "metadata": {},
   "outputs": [],
   "source": [
    "# build L2 - ground truth dataset\n",
    "k = 1\n",
    "_, I_indexL2 = indexL2.search(xq, k)\n"
   ]
  },
  {
   "cell_type": "code",
   "execution_count": 26,
   "metadata": {},
   "outputs": [],
   "source": [
    "# eval function\n",
    "def evaluate(I_indexL2, I_IndexFlat):\n",
    "    nq, d = xq.shape\n",
    "    missing_rate = (I_IndexFlat.flatten() == -1).sum() / float(k * nq)\n",
    "    recall_at_1 = (I_IndexFlat == I_indexL2[:, :1]).sum() / nq\n",
    "    print (\"R@1 %.4f, missing rate %.4f, k value is %.0f, nprobe is %.0f\" % (recall_at_1, missing_rate, k, indexIVFFlat.nprobe))"
   ]
  },
  {
   "cell_type": "code",
   "execution_count": 27,
   "metadata": {},
   "outputs": [
    {
     "name": "stdout",
     "output_type": "stream",
     "text": [
      "R@1 0.4175, missing rate 0.0000, k value is 1, nprobe is 1\n"
     ]
    }
   ],
   "source": [
    "# build IVFFlat evaluation test dataset\n",
    "indexIVFFlat.nprobe = 1\n",
    "_, I_IndexFlat = indexIVFFlat.search(xq, k)\n",
    "evaluate(I_indexL2, I_IndexFlat)"
   ]
  },
  {
   "cell_type": "code",
   "execution_count": 28,
   "metadata": {},
   "outputs": [
    {
     "name": "stdout",
     "output_type": "stream",
     "text": [
      "R@1 0.9185, missing rate 0.0000, k value is 1, nprobe is 10\n"
     ]
    }
   ],
   "source": [
    "indexIVFFlat.nprobe = 10\n",
    "_, I_IndexFlat = indexIVFFlat.search(xq, k)\n",
    "evaluate(I_indexL2, I_IndexFlat)"
   ]
  },
  {
   "cell_type": "code",
   "execution_count": 29,
   "metadata": {},
   "outputs": [
    {
     "name": "stdout",
     "output_type": "stream",
     "text": [
      "R@1 0.9795, missing rate 0.0000, k value is 1, nprobe is 20\n"
     ]
    }
   ],
   "source": [
    "indexIVFFlat.nprobe = 20\n",
    "_, I_IndexFlat = indexIVFFlat.search(xq, k)\n",
    "evaluate(I_indexL2, I_IndexFlat)"
   ]
  },
  {
   "cell_type": "code",
   "execution_count": 30,
   "metadata": {},
   "outputs": [
    {
     "name": "stdout",
     "output_type": "stream",
     "text": [
      "R@1 0.9940, missing rate 0.0000, k value is 1, nprobe is 30\n"
     ]
    }
   ],
   "source": [
    "indexIVFFlat.nprobe = 30\n",
    "_, I_IndexFlat = indexIVFFlat.search(xq, k)\n",
    "evaluate(I_indexL2, I_IndexFlat)"
   ]
  },
  {
   "cell_type": "code",
   "execution_count": null,
   "metadata": {},
   "outputs": [],
   "source": []
  }
 ],
 "metadata": {
  "kernelspec": {
   "display_name": "Python 3",
   "language": "python",
   "name": "python3"
  },
  "language_info": {
   "codemirror_mode": {
    "name": "ipython",
    "version": 3
   },
   "file_extension": ".py",
   "mimetype": "text/x-python",
   "name": "python",
   "nbconvert_exporter": "python",
   "pygments_lexer": "ipython3",
   "version": "3.6.8"
  }
 },
 "nbformat": 4,
 "nbformat_minor": 2
}
